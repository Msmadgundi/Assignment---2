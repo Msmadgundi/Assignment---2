{
 "cells": [
  {
   "cell_type": "markdown",
   "id": "4dd333c1-78bf-4178-a575-80044d1c4826",
   "metadata": {},
   "source": [
    "A-1"
   ]
  },
  {
   "cell_type": "code",
   "execution_count": 2,
   "id": "53b8254d-1edc-4f65-97cf-3e27239a5c2b",
   "metadata": {},
   "outputs": [
    {
     "name": "stdin",
     "output_type": "stream",
     "text": [
      "Enter your percentage 75\n"
     ]
    },
    {
     "name": "stdout",
     "output_type": "stream",
     "text": [
      "C\n"
     ]
    }
   ],
   "source": [
    "Marks = int(input(\"Enter your percentage\"))\n",
    "if Marks > 90:\n",
    "    print(\"A\")\n",
    "elif Marks > 80 and Marks <= 90:\n",
    "    print(\"B\")\n",
    "elif Marks >= 60 and Marks <= 80:\n",
    "    print(\"C\")\n",
    "else :\n",
    "    print(\"D\")"
   ]
  },
  {
   "cell_type": "markdown",
   "id": "10c1daa6-753f-48e5-92a8-bc137f86da75",
   "metadata": {},
   "source": [
    "A-2"
   ]
  },
  {
   "cell_type": "code",
   "execution_count": 5,
   "id": "6ae8d529-056d-475e-8ff9-47aecb833949",
   "metadata": {},
   "outputs": [
    {
     "name": "stdin",
     "output_type": "stream",
     "text": [
      "Cost price of the bike 40000\n"
     ]
    },
    {
     "name": "stdout",
     "output_type": "stream",
     "text": [
      "5%\n"
     ]
    }
   ],
   "source": [
    "cost = int(input(\"Cost price of the bike\"))\n",
    "if cost > 100000:\n",
    "    print(\"15%\")\n",
    "elif cost > 50000 and cost <= 100000:\n",
    "    print(\"10%\")\n",
    "else :\n",
    "    print(\"5%\")"
   ]
  },
  {
   "cell_type": "markdown",
   "id": "78bd93f5-b3e3-4cbb-9313-49156f71fc89",
   "metadata": {},
   "source": [
    "A-3"
   ]
  },
  {
   "cell_type": "code",
   "execution_count": 8,
   "id": "24b1cb73-b274-4635-b549-69f6f017b064",
   "metadata": {},
   "outputs": [
    {
     "name": "stdin",
     "output_type": "stream",
     "text": [
      "Enter City Delhi\n"
     ]
    },
    {
     "name": "stdout",
     "output_type": "stream",
     "text": [
      "Red Fort\n"
     ]
    }
   ],
   "source": [
    "city = input(\"Enter City\")\n",
    "if city == \"Delhi\":\n",
    "    print(\"Red Fort\")\n",
    "elif city == \"Agra\":\n",
    "    print(\"Taj Mahal\")\n",
    "elif city == \"Jaipur\":\n",
    "    print(\"Jai Mahal\")"
   ]
  },
  {
   "cell_type": "code",
   "execution_count": 16,
   "id": "6ad818f8-fd91-49a2-be33-0612fec0017d",
   "metadata": {},
   "outputs": [],
   "source": [
    "City = {\"Delhi\" : \"Red Fort\", \"Agra\" : \"Taj Mahal\", \"Jaipur\" : \"Jai Mahal\"}"
   ]
  },
  {
   "cell_type": "code",
   "execution_count": 17,
   "id": "49552d76-f048-4e8f-9212-34ec5000baab",
   "metadata": {},
   "outputs": [
    {
     "data": {
      "text/plain": [
       "{'Delhi': 'Red Fort', 'Agra': 'Taj Mahal', 'Jaipur': 'Jai Mahal'}"
      ]
     },
     "execution_count": 17,
     "metadata": {},
     "output_type": "execute_result"
    }
   ],
   "source": [
    "City"
   ]
  },
  {
   "cell_type": "code",
   "execution_count": 18,
   "id": "e113c246-693c-4e61-a141-63e00baf47dd",
   "metadata": {},
   "outputs": [
    {
     "data": {
      "text/plain": [
       "'Red Fort'"
      ]
     },
     "execution_count": 18,
     "metadata": {},
     "output_type": "execute_result"
    }
   ],
   "source": [
    "City[\"Delhi\"]"
   ]
  },
  {
   "cell_type": "markdown",
   "id": "68e92266-56c8-43ce-b2f7-b421bb835dd8",
   "metadata": {},
   "source": [
    "A-4"
   ]
  },
  {
   "cell_type": "code",
   "execution_count": 32,
   "id": "f3c720dd-4ab7-4846-ba39-58bf90642d22",
   "metadata": {},
   "outputs": [
    {
     "name": "stdin",
     "output_type": "stream",
     "text": [
      "Enter your number 150\n"
     ]
    },
    {
     "data": {
      "text/plain": [
       "3"
      ]
     },
     "execution_count": 32,
     "metadata": {},
     "output_type": "execute_result"
    }
   ],
   "source": [
    "number = int(input(\"Enter your number\"))\n",
    "counter = 0\n",
    "while number >= 10:\n",
    "    number = number // 3\n",
    "    counter = counter + 1\n",
    "counter"
   ]
  },
  {
   "cell_type": "markdown",
   "id": "e6aafdc3-6af5-40ff-8ad7-8085cfb328cf",
   "metadata": {},
   "source": [
    "A-5"
   ]
  },
  {
   "cell_type": "code",
   "execution_count": null,
   "id": "487ac047-0f63-489d-bd89-88c4da269eb1",
   "metadata": {},
   "outputs": [],
   "source": [
    "While loop is used to run a block code until a certain condition is met.\n",
    "It checks the condition before running the code.\n",
    "After checking the condition if its true the it goes further and run the code.\n",
    "It runs the code until the condition becomes false."
   ]
  },
  {
   "cell_type": "code",
   "execution_count": null,
   "id": "77a2c83b-b45e-4a27-b4a3-090ffc8f69cd",
   "metadata": {},
   "outputs": [],
   "source": [
    "##Example"
   ]
  },
  {
   "cell_type": "code",
   "execution_count": 4,
   "id": "bcc87bb2-c8e8-446e-95d6-bf9d4042bed3",
   "metadata": {},
   "outputs": [
    {
     "name": "stdin",
     "output_type": "stream",
     "text": [
      "enter your number 10\n"
     ]
    },
    {
     "data": {
      "text/plain": [
       "3628800"
      ]
     },
     "execution_count": 4,
     "metadata": {},
     "output_type": "execute_result"
    }
   ],
   "source": [
    "number = int(input(\"enter your number\"))\n",
    "factorial = 1\n",
    "while number > 0 :\n",
    "    factorial = factorial*number\n",
    "    number = number-1\n",
    "factorial"
   ]
  },
  {
   "cell_type": "markdown",
   "id": "2e9ca054-742d-4cbc-8880-51fc57d81cb6",
   "metadata": {},
   "source": [
    "A-6"
   ]
  },
  {
   "cell_type": "code",
   "execution_count": 1,
   "id": "4c06327a-c702-4911-a05b-65708d539e16",
   "metadata": {},
   "outputs": [
    {
     "name": "stdin",
     "output_type": "stream",
     "text": [
      "Enter your number 5\n"
     ]
    },
    {
     "name": "stdout",
     "output_type": "stream",
     "text": [
      "5 * 1 = 5\n",
      "5 * 2 = 10\n",
      "5 * 3 = 15\n",
      "5 * 4 = 20\n",
      "5 * 5 = 25\n",
      "5 * 6 = 30\n",
      "5 * 7 = 35\n",
      "5 * 8 = 40\n",
      "5 * 9 = 45\n",
      "5 * 10 = 50\n"
     ]
    }
   ],
   "source": [
    "n = int(input(\"Enter your number\"))\n",
    "i = 1\n",
    "while i <= 10:\n",
    "    result = n * i\n",
    "    print(n, \"*\", i, \"=\", result)\n",
    "    i = i + 1"
   ]
  },
  {
   "cell_type": "markdown",
   "id": "4d9c1dea-706e-4ce8-8dc9-0fe22141123d",
   "metadata": {},
   "source": [
    "A-7"
   ]
  },
  {
   "cell_type": "code",
   "execution_count": 5,
   "id": "e5c9ccde-6fbe-4fa3-8a1b-058186a2b93d",
   "metadata": {},
   "outputs": [
    {
     "name": "stdin",
     "output_type": "stream",
     "text": [
      "Enter your starting number 10\n",
      "Enter your ending number 1\n"
     ]
    },
    {
     "name": "stdout",
     "output_type": "stream",
     "text": [
      "10\n",
      "9\n",
      "8\n",
      "7\n",
      "6\n",
      "5\n",
      "4\n",
      "3\n",
      "2\n",
      "1\n"
     ]
    }
   ],
   "source": [
    "a = int(input(\"Enter your starting number\"))\n",
    "b = int(input(\"Enter your ending number\"))\n",
    "while a >= b:\n",
    "    print(a)\n",
    "    a=a-1"
   ]
  },
  {
   "cell_type": "code",
   "execution_count": null,
   "id": "6295ca56-196c-4eab-8bbe-dcabb64ed02d",
   "metadata": {},
   "outputs": [],
   "source": []
  }
 ],
 "metadata": {
  "kernelspec": {
   "display_name": "Python 3 (ipykernel)",
   "language": "python",
   "name": "python3"
  },
  "language_info": {
   "codemirror_mode": {
    "name": "ipython",
    "version": 3
   },
   "file_extension": ".py",
   "mimetype": "text/x-python",
   "name": "python",
   "nbconvert_exporter": "python",
   "pygments_lexer": "ipython3",
   "version": "3.10.8"
  }
 },
 "nbformat": 4,
 "nbformat_minor": 5
}
